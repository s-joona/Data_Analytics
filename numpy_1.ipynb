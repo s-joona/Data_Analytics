{
 "cells": [
  {
   "cell_type": "markdown",
   "metadata": {},
   "source": [
    "### Numpy 라이브러리 정리\n",
    "넘파이 배열(ndarray) : 기존 파이썬 리스트와 같이 넘파이에서 텐서 데이터를 다루는 객체\n",
    "텐서(tensor) : 선형대수에서 사용하는 데이터 배열을 지칭하는 용어, 데이터 배열의 랭크에 따라 별도의 용어 존재\n",
    "\n",
    "#### 랭크별 구분\n",
    "- 0 -> 이름 -> ex.7\n",
    "- 1 -> 벡터 -> ex.[10,10]\n",
    "- 2 -> 행렬 -> [[10,10], [10,10]]\n",
    "- 3 -> 3-차원 텐서 -> [[[10,10],[10,10]],[[10, 10],[10, 10]]]\n",
    "- n -> n-차원 텐서\n",
    "\n",
    "#### 배열의 메모리 구조\n",
    "1) numpy의 <strong>>np.array</strong> 함수\n",
    "- 첫 번째 매개변수 : 배열에 대한 정보\n",
    "- 두 번째 매개변수 : 넘파이 배열로 표현하고자 하는 데이터 타입"
   ]
  },
  {
   "cell_type": "markdown",
   "metadata": {},
   "source": []
  },
  {
   "cell_type": "code",
   "execution_count": 2,
   "metadata": {},
   "outputs": [
    {
     "name": "stdout",
     "output_type": "stream",
     "text": [
      "[1. 2. 3. 4.]\n"
     ]
    }
   ],
   "source": [
    "import numpy as np  # 넘파이 라이브러리 호출\n",
    "test_array = np.array([1,2,3,4], float)\n",
    "            #np.array([생성할 데이터], 데이터 타입)\n",
    "print(test_array)"
   ]
  },
  {
   "cell_type": "markdown",
   "metadata": {},
   "source": [
    "파이썬 리스트 형태의 인수를 주로 사용한다. \n",
    "\n",
    "##### 파이썬의 리스트와 Numpy의 ndarray의 차이점\n",
    "- 텐서의 구조에 따라 배열 생성<br> \n",
    "-> 기존 리스트 : 데이터를 일부 채우지 않아도 무리 없이 작동<br>\n",
    "-> 모든 넘파이 배열 : 반드시 모든 구성요소에 값이 존재해야 한다. <br>"
   ]
  },
  {
   "cell_type": "code",
   "execution_count": 7,
   "metadata": {},
   "outputs": [
    {
     "ename": "ValueError",
     "evalue": "setting an array element with a sequence. The requested array has an inhomogeneous shape after 1 dimensions. The detected shape was (2,) + inhomogeneous part.",
     "output_type": "error",
     "traceback": [
      "\u001b[1;31m---------------------------------------------------------------------------\u001b[0m",
      "\u001b[1;31mValueError\u001b[0m                                Traceback (most recent call last)",
      "\u001b[1;32mj:\\source\\Python\\Jupyter\\numpy.ipynb 셀 5\u001b[0m in \u001b[0;36m<cell line: 2>\u001b[1;34m()\u001b[0m\n\u001b[0;32m      <a href='vscode-notebook-cell:/j%3A/source/Python/Jupyter/numpy.ipynb#ch0000004?line=0'>1</a>\u001b[0m test_list \u001b[39m=\u001b[39m [[\u001b[39m1\u001b[39m,\u001b[39m2\u001b[39m,\u001b[39m3\u001b[39m,\u001b[39m4\u001b[39m],[\u001b[39m1\u001b[39m,\u001b[39m2\u001b[39m,\u001b[39m3\u001b[39m]] \u001b[39m# 2x4 행렬을 구성하려했지만, 한개의 값이 비어있음\u001b[39;00m\n\u001b[1;32m----> <a href='vscode-notebook-cell:/j%3A/source/Python/Jupyter/numpy.ipynb#ch0000004?line=1'>2</a>\u001b[0m np\u001b[39m.\u001b[39;49marray(test_list, \u001b[39mfloat\u001b[39;49m)\n",
      "\u001b[1;31mValueError\u001b[0m: setting an array element with a sequence. The requested array has an inhomogeneous shape after 1 dimensions. The detected shape was (2,) + inhomogeneous part."
     ]
    }
   ],
   "source": [
    "test_list = [[1,2,3,4],[1,2,3]] # 2x4 행렬을 구성하려했지만, 한개의 값이 비어있음\n",
    "np.array(test_list, float)  # 넘파이 배열 생성 하지만 에러 발생"
   ]
  },
  {
   "cell_type": "markdown",
   "metadata": {},
   "source": [
    "- 지원하지 않는 동적 타이핑<br>\n",
    "-> 리스트 : 여러 종류의 데이터 타입을 한 리스트에 사용가능<br>\n",
    "-> 모든 넘파이 배열 : 동적타이핑을 지원하지 않고, 하나의 데이터 타입만 취급"
   ]
  },
  {
   "cell_type": "code",
   "execution_count": 6,
   "metadata": {},
   "outputs": [
    {
     "name": "stdout",
     "output_type": "stream",
     "text": [
      "[1. 2. 3. 4.]\n",
      "<class 'numpy.float64'>\n"
     ]
    }
   ],
   "source": [
    "test_array = np.array([1,2,3,4], float)\n",
    "print(test_array)\n",
    "print(type(test_array[3]))"
   ]
  },
  {
   "cell_type": "markdown",
   "metadata": {},
   "source": [
    "<u>리스트</u> : 각 요소의 값이 메모리 상에 연속적으로 배열되는 것X<br>즉 해당 값의 메모리 주소만 연속적으로 배열함으로써 다양한 종류의 값이 순서대로 만듬<br>\n",
    "<u>넘파이 배열</u> : 실제 값을 연속적으로 나열하기 때문에 값들의 <strong>메모리 크기가 동일</strong>해야 한다.\n",
    "\n",
    "##### 배열의 생성"
   ]
  },
  {
   "cell_type": "code",
   "execution_count": 14,
   "metadata": {},
   "outputs": [
    {
     "name": "stdout",
     "output_type": "stream",
     "text": [
      "[1. 2. 3. 4.]\n"
     ]
    }
   ],
   "source": [
    "test_array = np.array([1,2,3,'4'], float)\n",
    "print(test_array)"
   ]
  },
  {
   "cell_type": "code",
   "execution_count": 15,
   "metadata": {},
   
   
   "outputs": [
    {
     "name": "stdout",
     "output_type": "stream",
     "text": [
      "<class 'numpy.float64'>\n"
     ]
    }
   ],
   "source": [
    "print(type(test_array[3])) # 실수형으로 자동 형변환 실시\n",
    "# float64 -> 64비트, 8바이트의 실수형 데이터"
   ]
  },
  {
   "cell_type": "markdown",
   "metadata": {},
   "source": [
    "=> float로 넘파이 배열을 선언했기 때문에 실수형, 문자형을 모두 포함하고 있지만, 자동 형변환이 일어난다."
   ]
  },
  {
   "cell_type": "markdown",
   "metadata": {},
   "source": [
    "##### 데이터의 특징을 출력하는 요소\n",
    "- dtype : 넘파이 배열의 데이터 타입을 반환하는 요소\n",
    "- shape : 객체의 차원에 대한 구성 정보를 반환한다."
   ]
  },
  {
   "cell_type": "code",
   "execution_count": 10,
   "metadata": {},
   "outputs": [
    {
     "name": "stdout",
     "output_type": "stream",
     "text": [
      "float64\n"
     ]
    }
   ],
   "source": [
    "print(test_array.dtype) # 배열 전체의 데이터 타입 변환"
   ]
  },
  {
   "cell_type": "code",
   "execution_count": 12,
   "metadata": {},
   "outputs": [
    {
     "name": "stdout",
     "output_type": "stream",
     "text": [
      "(4,)\n"
     ]
    }
   ],
   "source": [
    "print(test_array.shape) # 배열의 구조를 반환함"
   ]
  },
  {
   "cell_type": "markdown",
   "metadata": {},
   "source": [
    "#### 배열의 구조\n",
    "바로 위에 나온 (4,) 는 튜플을 의미한다.\n",
    "이는 1차원 랭크를 가지면서 4개의 요소를 가지고 있는 넘파이 배열이라는 뜻"
   ]
  },
  {
   "cell_type": "code",
   "execution_count": 20,
   "metadata": {},
   "outputs": [
    {
     "data": {
      "text/plain": [
       "(3, 4)"
      ]
     },
     "execution_count": 20,
     "metadata": {},
     "output_type": "execute_result"
    }
   ],
   "source": [
    "matrix = [[1,2,3,4],[1,2,3,4],[1,2,3,4]]\n",
    "np.array(matrix, int).shape"
   ]
  },
  {
   "cell_type": "markdown",
   "metadata": {},
   "source": [
    "(3, 4)는 각각 행과 열을 나타낸다.<br>\n",
    "즉 3개의 행과 4개의 열\n",
    "\n",
    "#### shape 함수 rank 표현 (어려움)\n",
    "- 3차원을 가진 데이터 까지는 표현이 가능하지만 그 이상은 약간 어려움\n",
    "- <u>일반적으로 뒤에 있는 값일수록 낮은 랭크의 값을 의미</u>"
   ]
  },
  {
   "cell_type": "code",
   "execution_count": 23,
   "metadata": {},
   "outputs": [
    {
     "data": {
      "text/plain": [
       "(4, 3, 4)"
      ]
     },
     "execution_count": 23,
     "metadata": {},
     "output_type": "execute_result"
    }
   ],
   "source": [
    "tensor_rank3 = [\n",
    "    [[1,2,3,4],[1,2,3,4],[1,2,3,4]],\n",
    "    [[1,2,3,4],[1,2,3,4],[1,2,3,4]],\n",
    "    [[1,2,3,4],[1,2,3,4],[1,2,3,4]],\n",
    "    [[1,2,3,4],[1,2,3,4],[1,2,3,4]]\n",
    "]\n",
    "np.array(tensor_rank3, int).shape"
   ]
  },
  {
   "cell_type": "markdown",
   "metadata": {},
   "source": [
    "3행 4열의 행렬이 깔려있다."
   ]
  },
  {
   "cell_type": "code",
   "execution_count": 26,
   "metadata": {},
   "outputs": [
    {
     "name": "stdout",
     "output_type": "stream",
     "text": [
      "3\n",
      "48\n"
     ]
    }
   ],
   "source": [
    "print(np.array(tensor_rank3, int).ndim)\n",
    "print(np.array(tensor_rank3, int).size)"
   ]
  },
  {
   "cell_type": "markdown",
   "metadata": {},
   "source": [
    "- <strong>ndim</strong>(number of dimension) : 랭크\n",
    "- <strong>size</strong> : 해당 넘파이 배열에 있는 모든 데이터의 개수"
   ]
  },
  {
   "cell_type": "code",
   "execution_count": 30,
   "metadata": {},
   "outputs": [
    {
     "data": {
      "text/plain": [
       "(1, 4, 3, 4)"
      ]
     },
     "execution_count": 30,
     "metadata": {},
     "output_type": "execute_result"
    }
   ],
   "source": [
    "tensor_rank4 = [\n",
    "    [[[1,2,3,4],[1,2,3,4],[1,2,3,4]],\n",
    "    [[1,2,3,4],[1,2,3,4],[1,2,3,4]],\n",
    "    [[1,2,3,4],[1,2,3,4],[1,2,3,4]],\n",
    "    [[1,2,3,4],[1,2,3,4],[1,2,3,4]]],\n",
    "]\n",
    "np.array(tensor_rank4, int).shape"
   ]
  },
  {
   "cell_type": "code",
   "execution_count": 31,
   "metadata": {},
   "outputs": [
    {
     "data": {
      "text/plain": [
       "(1, 1, 4, 3, 4)"
      ]
     },
     "execution_count": 31,
     "metadata": {},
     "output_type": "execute_result"
    }
   ],
   "source": [
    "tensor_rank5 = [[\n",
    "    [[[1,2,3,4],[1,2,3,4],[1,2,3,4]],\n",
    "    [[1,2,3,4],[1,2,3,4],[1,2,3,4]],\n",
    "    [[1,2,3,4],[1,2,3,4],[1,2,3,4]],\n",
    "    [[1,2,3,4],[1,2,3,4],[1,2,3,4]]],\n",
    "]]\n",
    "np.array(tensor_rank5, int).shape"
   ]
  },
  {
   "cell_type": "markdown",
   "metadata": {},
   "source": [
    "#### dtype\n",
    "넘파이 배열의 데이터 타입은 dtype으로 지정 가능하다.<br>\n",
    "이때 넘파이의 배열의 매개변수로 dtype을 넘겨준다."
   ]
  },
  {
   "cell_type": "code",
   "execution_count": 34,
   "metadata": {},
   "outputs": [
    {
     "data": {
      "text/plain": [
       "array([[1, 2, 3, 4],\n",
       "       [1, 2, 3, 4]])"
      ]
     },
     "execution_count": 34,
     "metadata": {},
     "output_type": "execute_result"
    }
   ],
   "source": [
    "np.array([[1,2,3,4.5],[1,2,3,4.5]], dtype = int) # 타입을 int로 지정, 자동 형변환"
   ]
  },
  {
   "cell_type": "code",
   "execution_count": 35,
   "metadata": {},
   "outputs": [
    {
     "data": {
      "text/plain": [
       "array([[1. , 2. , 3. , 4.5],\n",
       "       [1. , 2. , 3. , 4.5]])"
      ]
     },
     "execution_count": 35,
     "metadata": {},
     "output_type": "execute_result"
    }
   ],
   "source": [
    "np.array([[1,2,3,4.5],[1,2,3,4.5]], dtype = float) # 타입을 float로 지정"
   ]
  },
  {
   "cell_type": "markdown",
   "metadata": {},
   "source": [
    "데이터 타입이 변하면, 변수가 사용하는 메모리 크기의 차이가 존재한다.<br>\n",
    "이를 확인하는 요소로 매개변수 <strong>itemsize</strong>를 사용한다.<br>\n",
    "\n",
    "-  itemsize : 넘파이 배열에서 사용하는 각 요소가 차지하는 바이트 의미"
   ]
  },
  {
   "cell_type": "code",
   "execution_count": 36,
   "metadata": {},
   "outputs": [
    {
     "data": {
      "text/plain": [
       "8"
      ]
     },
     "execution_count": 36,
     "metadata": {},
     "output_type": "execute_result"
    }
   ],
   "source": [
    "import sys\n",
    "np.array([[1,2,3.4],[1,2,3.4]],dtype = np.float64).itemsize"
   ]
  },
  {
   "cell_type": "code",
   "execution_count": 37,
   "metadata": {},
   "outputs": [
    {
     "data": {
      "text/plain": [
       "4"
      ]
     },
     "execution_count": 37,
     "metadata": {},
     "output_type": "execute_result"
    }
   ],
   "source": [
    "import sys\n",
    "np.array([[1,2,3.4],[1,2,3.4]],dtype = np.float32).itemsize"
   ]
  },
  {
   "cell_type": "markdown",
   "metadata": {},
   "source": [
    "#### 배열의 구조 다루기\n",
    "- <strong>reshape</strong> : 배열의 구조 변경, 랭크 조절에 사용"
   ]
  },
  {
   "cell_type": "code",
   "execution_count": 38,
   "metadata": {},
   "outputs": [
    {
     "name": "stdout",
     "output_type": "stream",
     "text": [
      "(2, 4)\n",
      "[1 2 3 4 1 2 3 4]\n"
     ]
    }
   ],
   "source": [
    "x = np.array([[1,2,3,4],[1,2,3,4]])\n",
    "print(x.shape)\n",
    "print(x.reshape(-1,)) # 벡터 형태로 변경"
   ]
  },
  {
   "cell_type": "markdown",
   "metadata": {},
   "source": [
    "reshape 함수로 배열의 구조인 shape를 변경할 때에는 반드시 전체 요소의 개수를 통일해야한다. <br>\n",
    "그렇지 않다면 에러가 나올 것이다."
   ]
  },
  {
   "cell_type": "code",
   "execution_count": 40,
   "metadata": {},
   "outputs": [
    {
     "data": {
      "text/plain": [
       "array([0, 1, 2, 3, 4, 5, 6, 7])"
      ]
     },
     "execution_count": 40,
     "metadata": {},
     "output_type": "execute_result"
    }
   ],
   "source": [
    "x = np.array(range(8))\n",
    "x"
   ]
  },
  {
   "cell_type": "code",
   "execution_count": 41,
   "metadata": {},
   "outputs": [
    {
     "ename": "ValueError",
     "evalue": "cannot reshape array of size 8 into shape (2,2)",
     "output_type": "error",
     "traceback": [
      "\u001b[1;31m---------------------------------------------------------------------------\u001b[0m",
      "\u001b[1;31mValueError\u001b[0m                                Traceback (most recent call last)",
      "\u001b[1;32mj:\\source\\Python\\Jupyter\\numpy.ipynb 셀 34\u001b[0m in \u001b[0;36m<cell line: 1>\u001b[1;34m()\u001b[0m\n\u001b[1;32m----> <a href='vscode-notebook-cell:/j%3A/source/Python/Jupyter/numpy.ipynb#ch0000034?line=0'>1</a>\u001b[0m x\u001b[39m.\u001b[39;49mreshape(\u001b[39m2\u001b[39;49m,\u001b[39m2\u001b[39;49m)\n",
      "\u001b[1;31mValueError\u001b[0m: cannot reshape array of size 8 into shape (2,2)"
     ]
    }
   ],
   "source": [
    "x.reshape(2,2)"
   ]
  },
  {
   "cell_type": "markdown",
   "metadata": {},
   "source": [
    "##### <strong>reshape</strong>에서 기억해야할 점<br>\n",
    "#### -1을 사용한다는 점\n",
    "-> 전체 요소의 개수는 고정시키고, 1개를 제외한 나머지 차원의 크기를 지정했을 때 <br>전체 요소의 개수를 고려하여 마지막 차원이 자동으로 지정하는 기법"
   ]
  },
  {
   "cell_type": "code",
   "execution_count": 46,
   "metadata": {},
   "outputs": [
    {
     "data": {
      "text/plain": [
       "array([[0, 1],\n",
       "       [2, 3],\n",
       "       [4, 5],\n",
       "       [6, 7]])"
      ]
     },
     "execution_count": 46,
     "metadata": {},
     "output_type": "execute_result"
    }
   ],
   "source": [
    "x = np.array(range(8)).reshape(4,2)\n",
    "x\n",
    "# 4 x 2 행렬"
   ]
  },
  {
   "cell_type": "code",
   "execution_count": 43,
   "metadata": {},
   "outputs": [
    {
     "data": {
      "text/plain": [
       "array([[0, 1, 2, 3],\n",
       "       [4, 5, 6, 7]])"
      ]
     },
     "execution_count": 43,
     "metadata": {},
     "output_type": "execute_result"
    }
   ],
   "source": [
    "x.reshape(2,-1)\n",
    "# 2 x 4 행렬"
   ]
  },
  {
   "cell_type": "code",
   "execution_count": 47,
   "metadata": {},
   "outputs": [
    {
     "data": {
      "text/plain": [
       "array([[[0, 1],\n",
       "        [2, 3]],\n",
       "\n",
       "       [[4, 5],\n",
       "        [6, 7]]])"
      ]
     },
     "execution_count": 47,
     "metadata": {},
     "output_type": "execute_result"
    }
   ],
   "source": [
    "x.reshape(2,2,-1)\n",
    "# 2 x 2 x 2 의 텐서 (3차원 텐서)"
   ]
  },
  {
   "cell_type": "markdown",
   "metadata": {},
   "source": [
    "- <strong>flatten</strong> : 데이터 그태로 1차원으로 변경"
   ]
  },
  {
   "cell_type": "code",
   "execution_count": 48,
   "metadata": {},
   "outputs": [
    {
     "data": {
      "text/plain": [
       "array([0, 1, 2, 3, 4, 5, 6, 7])"
      ]
     },
     "execution_count": 48,
     "metadata": {},
     "output_type": "execute_result"
    }
   ],
   "source": [
    "x.flatten()"
   ]
  },
  {
   "cell_type": "markdown",
   "metadata": {},
   "source": [
    "#### 인덱싱과 슬라이싱\n",
    "- 인덱싱 : 리스트에 있는 값을 접근하기 위해 이 값의 상대적인 주소를 사용"
   ]
  },
  {
   "cell_type": "code",
   "execution_count": 50,
   "metadata": {},
   "outputs": [
    {
     "data": {
      "text/plain": [
       "array([[1, 2, 3],\n",
       "       [1, 2, 3]])"
      ]
     },
     "execution_count": 50,
     "metadata": {},
     "output_type": "execute_result"
    }
   ],
   "source": [
    "x = np.array([[1,2,3],[1,2,3]],dtype = int)\n",
    "x"
   ]
  },
  {
   "cell_type": "code",
   "execution_count": 51,
   "metadata": {},
   "outputs": [
    {
     "data": {
      "text/plain": [
       "1"
      ]
     },
     "execution_count": 51,
     "metadata": {},
     "output_type": "execute_result"
    }
   ],
   "source": [
    "x[0][0]"
   ]
  },
  {
   "cell_type": "code",
   "execution_count": 52,
   "metadata": {},
   "outputs": [
    {
     "data": {
      "text/plain": [
       "3"
      ]
     },
     "execution_count": 52,
     "metadata": {},
     "output_type": "execute_result"
    }
   ],
   "source": [
    "x[0,2]"
   ]
  },
  {
   "cell_type": "code",
   "execution_count": 53,
   "metadata": {},
   "outputs": [
    {
     "data": {
      "text/plain": [
       "array([[  1, 100,   3],\n",
       "       [  1,   2,   3]])"
      ]
     },
     "execution_count": 53,
     "metadata": {},
     "output_type": "execute_result"
    }
   ],
   "source": [
    "x[0,1] = 100\n",
    "x"
   ]
  },
  {
   "cell_type": "markdown",
   "metadata": {},
   "source": [
    "리스트와 넘파이배열의 공통 표기법 : [행][열]<br>\n",
    "넘파이배열 추가적인 표기법 : [행, 열]\n",
    "\n",
    "- 슬라이싱 :  리스트의 인덱스를 사용하여, 전체 리스트에서 일부를 잘라내어 반환"
   ]
  },
  {
   "cell_type": "code",
   "execution_count": 61,
   "metadata": {},
   "outputs": [
    {
     "data": {
      "text/plain": [
       "array([[ 1,  2,  3,  4,  5],\n",
       "       [ 6,  7,  8,  9, 10]])"
      ]
     },
     "execution_count": 61,
     "metadata": {},
     "output_type": "execute_result"
    }
   ],
   "source": [
    "x = np.array([[1,2,3,4,5],[6,7,8,9,10]], dtype = int)\n",
    "x"
   ]
  },
  {
   "cell_type": "code",
   "execution_count": 62,
   "metadata": {},
   "outputs": [
    {
     "data": {
      "text/plain": [
       "array([[ 3,  4,  5],\n",
       "       [ 8,  9, 10]])"
      ]
     },
     "execution_count": 62,
     "metadata": {},
     "output_type": "execute_result"
    }
   ],
   "source": [
    "x[:,2:]"
   ]
  },
  {
   "cell_type": "code",
   "execution_count": 63,
   "metadata": {},
   "outputs": [
    {
     "data": {
      "text/plain": [
       "array([7, 8])"
      ]
     },
     "execution_count": 63,
     "metadata": {},
     "output_type": "execute_result"
    }
   ],
   "source": [
    "x[1,1:3]"
   ]
  },
  {
   "cell_type": "code",
   "execution_count": 64,
   "metadata": {},
   "outputs": [
    {
     "data": {
      "text/plain": [
       "array([[ 6,  7,  8,  9, 10]])"
      ]
     },
     "execution_count": 64,
     "metadata": {},
     "output_type": "execute_result"
    }
   ],
   "source": [
    "x[1:3]"
   ]
  },
  {
   "cell_type": "markdown",
   "metadata": {},
   "source": [
    "리스트와 동일하게 <strong>[시작 인덱스 : 마지막 인덱스 : 증가값]</strong> 사용가능\n",
    "<br>이는 요소별로 적용가능하다"
   ]
  },
  {
   "cell_type": "code",
   "execution_count": 66,
   "metadata": {},
   "outputs": [
    {
     "data": {
      "text/plain": [
       "array([[ 0,  1,  2,  3,  4],\n",
       "       [ 5,  6,  7,  8,  9],\n",
       "       [10, 11, 12, 13, 14]])"
      ]
     },
     "execution_count": 66,
     "metadata": {},
     "output_type": "execute_result"
    }
   ],
   "source": [
    "x = np.array(range(15),int).reshape(3,-1)\n",
    "x"
   ]
  },
  {
   "cell_type": "code",
   "execution_count": 67,
   "metadata": {},
   "outputs": [
    {
     "data": {
      "text/plain": [
       "array([[ 0,  2,  4],\n",
       "       [ 5,  7,  9],\n",
       "       [10, 12, 14]])"
      ]
     },
     "execution_count": 67,
     "metadata": {},
     "output_type": "execute_result"
    }
   ],
   "source": [
    "x[:,::2]"
   ]
  },
  {
   "cell_type": "code",
   "execution_count": 68,
   "metadata": {},
   "outputs": [
    {
     "data": {
      "text/plain": [
       "array([[ 0,  3],\n",
       "       [10, 13]])"
      ]
     },
     "execution_count": 68,
     "metadata": {},
     "output_type": "execute_result"
    }
   ],
   "source": [
    "x[::2, ::3]"
   ]
  }
 ],
 "metadata": {
  "kernelspec": {
   "display_name": "Python 3.9.12 ('joon')",
   "language": "python",
   "name": "python3"
  },
  "language_info": {
   "codemirror_mode": {
    "name": "ipython",
    "version": 3
   },
   "file_extension": ".py",
   "mimetype": "text/x-python",
   "name": "python",
   "nbconvert_exporter": "python",
   "pygments_lexer": "ipython3",
   "version": "3.9.12"
  },
  "orig_nbformat": 4,
  "vscode": {
   "interpreter": {
    "hash": "1e0dec8de70038811930ec1e4061a401642eedfa06e1b0826aabaee4afa2b89b"
   }
  }
 },
 "nbformat": 4,
 "nbformat_minor": 2
}
