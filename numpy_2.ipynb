{
 "cells": [
  {
   "cell_type": "markdown",
   "metadata": {},
   "source": [
    "<h2><strong> Numpy 라이브러리 </strong></h2>"
   ]
  },
  {
   "cell_type": "code",
   "execution_count": 2,
   "metadata": {},
   "outputs": [
    {
     "data": {
      "text/plain": [
       "array([[1, 2, 3, 4],\n",
       "       [1, 2, 3, 4]])"
      ]
     },
     "execution_count": 2,
     "metadata": {},
     "output_type": "execute_result"
    }
   ],
   "source": [
    "import numpy as np\n",
    "alist = [[1,2,3,4],[1,2,3,4],[1,2,3,4],[1,2,3,4]]\n",
    "arr = np.array(alist,int)\n",
    "arr[0:2:1, 0:4:1] \n",
    "\n",
    "#arr[행(시작값:종료값:증감값,시작값:종료값:증감값)]"
   ]
  },
  {
   "cell_type": "code",
   "execution_count": 3,
   "metadata": {},
   "outputs": [
    {
     "name": "stdout",
     "output_type": "stream",
     "text": [
      "증감값 생략\n",
      " [[2]]\n",
      "시작값 생략\n",
      " [[1 2 3]\n",
      " [1 2 3]]\n",
      "종료값 생략\n",
      " [[4]\n",
      " [4]]\n"
     ]
    }
   ],
   "source": [
    "# 행과 열에 대해서 증감값 생략, 시작값 생략, 종료값 생략\n",
    "\n",
    "# 1. 증감값 생략\n",
    "print('증감값 생략\\n' ,arr[1:2,1:2])\n",
    "\n",
    "# 2. 시작값 생략\n",
    "print('시작값 생략\\n', arr[:2, :3])\n",
    "\n",
    "# 3. 종료값 생략 \n",
    "print('종료값 생략\\n', arr[2:, 3:])"
   ]
  },
  {
   "cell_type": "code",
   "execution_count": 4,
   "metadata": {},
   "outputs": [
    {
     "data": {
      "text/plain": [
       "array([[ 0,  1,  2,  3,  4],\n",
       "       [ 5,  6,  7,  8,  9],\n",
       "       [10, 11, 12, 13, 14]])"
      ]
     },
     "execution_count": 4,
     "metadata": {},
     "output_type": "execute_result"
    }
   ],
   "source": [
    "# 1행에 대해서 열에 대해서 2씩 증가\n",
    "x = np.array(range(15), dtype = int)\n",
    "x = x.reshape(3,-1)\n",
    "x[1, ::2] # 행과 열에 대해서 따로따로 표현가능 지난 정리에서 이미 끝남\n",
    "x[::1, ]"
   ]
  },
  {
   "cell_type": "markdown",
   "metadata": {},
   "source": [
    "<h4>넘파이 배열 객체 다루기</h4>\n",
    "<h5>배열 생성 함수 </h5>"
   ]
  },
  {
   "cell_type": "markdown",
   "metadata": {},
   "source": [
    "- <strong>arange</strong> : 시작값에서 증감값을 늘려나가며 끝 값까지 계산한것<br> -><strong>arange</strong>(시작값, 끝 값 + 1, 증감값)"
   ]
  },
  {
   "cell_type": "code",
   "execution_count": 15,
   "metadata": {},
   "outputs": [
    {
     "name": "stdout",
     "output_type": "stream",
     "text": [
      "[0 1 2 3 4 5 6 7 8 9]\n",
      "[0 3 6 9]\n",
      "[0.  0.8 1.6 2.4 3.2 4.  4.8 5.6 6.4 7.2 8.  8.8 9.6]\n",
      "[30 29 28 27 26 25 24 23 22 21 20 19 18 17 16 15 14 13 12]\n",
      "[10  9  8  7  6  5  4  3  2  1]\n"
     ]
    }
   ],
   "source": [
    "print(np.arange(0,10,1))\n",
    "print(np.arange(0,10,3))\n",
    "print(np.arange(0,10,0.8))\n",
    "print(np.arange(30,11,-1))\n",
    "print(np.arange(10,0,-1))"
   ]
  },
  {
   "cell_type": "markdown",
   "metadata": {},
   "source": [
    "- <strong>ones</strong> : 1로만 구성된 넘파이 배열을 생성"
   ]
  },
  {
   "cell_type": "code",
   "execution_count": 17,
   "metadata": {},
   "outputs": [
    {
     "name": "stdout",
     "output_type": "stream",
     "text": [
      "[[1 1]\n",
      " [1 1]\n",
      " [1 1]\n",
      " [1 1]\n",
      " [1 1]]\n"
     ]
    }
   ],
   "source": [
    "print(np.ones(shape = (5,2), dtype = np.int8))\n"
   ]
  },
  {
   "cell_type": "markdown",
   "metadata": {},
   "source": [
    "- <strong>zeros</strong> : 0로만 구성된 넘파이 배열을 생성"
   ]
  },
  {
   "cell_type": "code",
   "execution_count": 18,
   "metadata": {},
   "outputs": [
    {
     "data": {
      "text/plain": [
       "array([[0., 0.],\n",
       "       [0., 0.]], dtype=float32)"
      ]
     },
     "execution_count": 18,
     "metadata": {},
     "output_type": "execute_result"
    }
   ],
   "source": [
    "np.zeros(shape = (2,2), dtype = np.float32)"
   ]
  },
  {
   "cell_type": "markdown",
   "metadata": {},
   "source": [
    "- <Strong>empty</strong> : 활용가능한 메모리 공간 확보하여 반환<br>\n",
    "-> 메모리 공간을 초기화하지는 않으며, 생성할 때마다 다른 값 반환"
   ]
  },
  {
   "cell_type": "code",
   "execution_count": 19,
   "metadata": {},
   "outputs": [
    {
     "data": {
      "text/plain": [
       "array([[2.0457300e-29, 5.8153886e-43, 5.3265527e-39, 7.8061461e-39],\n",
       "       [9.2755463e-39, 1.0561242e-38, 1.0744882e-38, 9.2755463e-39]],\n",
       "      dtype=float32)"
      ]
     },
     "execution_count": 19,
     "metadata": {},
     "output_type": "execute_result"
    }
   ],
   "source": [
    "np.empty(shape = (2,4), dtype = np.float32)"
   ]
  },
  {
   "cell_type": "code",
   "execution_count": 20,
   "metadata": {},
   "outputs": [
    {
     "data": {
      "text/plain": [
       "array([[ 0,  1,  2,  3],\n",
       "       [ 4,  5,  6,  7],\n",
       "       [ 8,  9, 10, 11]])"
      ]
     },
     "execution_count": 20,
     "metadata": {},
     "output_type": "execute_result"
    }
   ],
   "source": [
    "x=  np.arange(12).reshape(3,4)\n",
    "x"
   ]
  },
  {
   "cell_type": "markdown",
   "metadata": {},
   "source": [
    "- <strong>ones_like</strong> : 기존 넘파이 배열과 같은 크기로 만들어 내용을 1 로 채움"
   ]
  },
  {
   "cell_type": "code",
   "execution_count": 21,
   "metadata": {},
   "outputs": [
    {
     "data": {
      "text/plain": [
       "array([[1, 1, 1, 1],\n",
       "       [1, 1, 1, 1],\n",
       "       [1, 1, 1, 1]])"
      ]
     },
     "execution_count": 21,
     "metadata": {},
     "output_type": "execute_result"
    }
   ],
   "source": [
    "np.ones_like(x)"
   ]
  },
  {
   "cell_type": "markdown",
   "metadata": {},
   "source": [
    "- <strong>zeros_like</strong> : 기존 넘파이 배열과 같은 크기로 만들어 내용을 0 로 채움"
   ]
  },
  {
   "cell_type": "code",
   "execution_count": 22,
   "metadata": {},
   "outputs": [
    {
     "data": {
      "text/plain": [
       "array([[0, 0, 0, 0],\n",
       "       [0, 0, 0, 0],\n",
       "       [0, 0, 0, 0]])"
      ]
     },
     "execution_count": 22,
     "metadata": {},
     "output_type": "execute_result"
    }
   ],
   "source": [
    "np.zeros_like(x)"
   ]
  },
  {
   "cell_type": "markdown",
   "metadata": {},
   "source": [
    "- <strong>identity</strong> : 단위 행렬을 생성\n",
    "<br> -> 매개 변수 *n*으로 *n* x *n*  단위 행렬 생성"
   ]
  },
  {
   "cell_type": "code",
   "execution_count": 24,
   "metadata": {},
   "outputs": [
    {
     "data": {
      "text/plain": [
       "array([[1, 0, 0],\n",
       "       [0, 1, 0],\n",
       "       [0, 0, 1]])"
      ]
     },
     "execution_count": 24,
     "metadata": {},
     "output_type": "execute_result"
    }
   ],
   "source": [
    "np.identity(n=3 ,dtype = int)"
   ]
  },
  {
   "cell_type": "markdown",
   "metadata": {},
   "source": [
    "- <strong>eye</strong> : 시작점과 행렬 크기를 지정, 단위 행렬 생성\n",
    "<br> -> *N* : 행의 개수\n",
    "<br> -> *M* : 열의 개수\n",
    "<br> -> *k* : 열의 값을 기준으로 하는 시작 인덱스"
   ]
  },
  {
   "cell_type": "code",
   "execution_count": 6,
   "metadata": {},
   "outputs": [
    {
     "name": "stdout",
     "output_type": "stream",
     "text": [
      "[[0. 0. 1. 0. 0.]\n",
      " [0. 0. 0. 1. 0.]\n",
      " [0. 0. 0. 0. 1.]]\n",
      "\n",
      "[[1. 0. 0.]\n",
      " [0. 1. 0.]\n",
      " [0. 0. 1.]]\n"
     ]
    }
   ],
   "source": [
    "print(np.eye(N=3, M=5,k=2)) \n",
    "print()\n",
    "print(np.eye(N=3, M=3, k=0))"
   ]
  },
  {
   "cell_type": "code",
   "execution_count": 9,
   "metadata": {},
   "outputs": [
    {
     "data": {
      "text/plain": [
       "array([[0, 1, 2],\n",
       "       [3, 4, 5],\n",
       "       [6, 7, 8]])"
      ]
     },
     "execution_count": 9,
     "metadata": {},
     "output_type": "execute_result"
    }
   ],
   "source": [
    "matrix = np.arange(9).reshape(3,3)\n",
    "matrix"
   ]
  },
  {
   "cell_type": "markdown",
   "metadata": {},
   "source": [
    "- <strong>diag</strong> : 행렬의 대각 성분 값을 추출"
   ]
  },
  {
   "cell_type": "code",
   "execution_count": 10,
   "metadata": {},
   "outputs": [
    {
     "name": "stdout",
     "output_type": "stream",
     "text": [
      "[0 4 8]\n",
      "[1 5]\n"
     ]
    }
   ],
   "source": [
    "print(np.diag(matrix))\n",
    "print(np.diag(matrix, k=1))"
   ]
  },
  {
   "cell_type": "markdown",
   "metadata": {},
   "source": [
    "<h5>통계 분석 함수<h5>"
   ]
  },
  {
   "cell_type": "markdown",
   "metadata": {},
   "source": [
    "- <strong>uniform</strong> : 균등 분포 함수\n",
    "<br>-> <strong>np.random.uniform</strong>(시작값, 끝값, 데이터 개수)"
   ]
  },
  {
   "cell_type": "code",
   "execution_count": 35,
   "metadata": {},
   "outputs": [
    {
     "data": {
      "text/plain": [
       "array([1.4093936 , 2.33977732, 2.36875796, 3.36687015, 4.96711671,\n",
       "       0.1702683 , 2.18828703, 3.97132454, 0.41858546, 0.88932938])"
      ]
     },
     "execution_count": 35,
     "metadata": {},
     "output_type": "execute_result"
    }
   ],
   "source": [
    "np.random.uniform(0,5,10)"
   ]
  },
  {
   "cell_type": "markdown",
   "metadata": {},
   "source": [
    "- <strong>normal</strong> : 정규분포 함수\n",
    "<br>-> <strong>np.random.normal</strong>(평균값, 분산, 데이터 개수)"
   ]
  },
  {
   "cell_type": "code",
   "execution_count": 12,
   "metadata": {},
   "outputs": [
    {
     "data": {
      "text/plain": [
       "array([-1.22471768,  0.57124435,  2.27293173, -1.74241495, -2.6430677 ,\n",
       "        3.21561085, -4.56465142, -1.23056622,  0.82645665,  1.86988087])"
      ]
     },
     "execution_count": 12,
     "metadata": {},
     "output_type": "execute_result"
    }
   ],
   "source": [
    "np.random.normal(0, 2, 10)"
   ]
  },
  {
   "cell_type": "markdown",
   "metadata": {},
   "source": [
    "<h4>넘파이 배열 연산</h4>"
   ]
  },
  {
   "cell_type": "markdown",
   "metadata": {},
   "source": [
    "<h5>연산 함수</h5>"
   ]
  },
  {
   "cell_type": "markdown",
   "metadata": {},
   "source": [
    "- 연산 함수 : 배열 내부 연산을 지원하는 함수\n",
    "- 축(*axis*) : 배열의 랭크가 증가할 때마다 새로운 축이 추가 되어 차원 증가\n",
    "- <strong>sum</strong> : 각 요소의 합을 반환\n",
    "\n",
    "2차원 기준 axis <br>\n",
    "- 0일때는 열(세로)끼리 연산 <br>\n",
    "- 1일 때는 행(가로)끼리 연산"
   ]
  },
  {
   "cell_type": "code",
   "execution_count": 16,
   "metadata": {},
   "outputs": [
    {
     "name": "stdout",
     "output_type": "stream",
     "text": [
      "[[ 1  2  3  4]\n",
      " [ 5  6  7  8]\n",
      " [ 9 10 11 12]]\n",
      "\n",
      "axis = 0 ->  [15 18 21 24]\n",
      "axis = 1 ->  [10 26 42]\n"
     ]
    }
   ],
   "source": [
    "test_array = np.arange(1,13).reshape(3,4)\n",
    "print(test_array)\n",
    "print()\n",
    "print('axis = 0 -> ',test_array.sum(axis = 0))\n",
    "print('axis = 1 -> ', test_array.sum(axis = 1))"
   ]
  },
  {
   "cell_type": "code",
   "execution_count": 41,
   "metadata": {},
   "outputs": [
    {
     "name": "stdout",
     "output_type": "stream",
     "text": [
      "[[ 1  2  3  4]\n",
      " [ 5  6  7  8]\n",
      " [ 9 10 11 12]]\n",
      "shape =  (2, 3, 4)\n",
      "[[[ 1  2  3  4]\n",
      "  [ 5  6  7  8]\n",
      "  [ 9 10 11 12]]\n",
      "\n",
      " [[ 1  2  3  4]\n",
      "  [ 5  6  7  8]\n",
      "  [ 9 10 11 12]]]\n"
     ]
    }
   ],
   "source": [
    "x = np.arange(1,13).reshape(3,4)\n",
    "print(x)\n",
    "test_array = np.array([x,x],int)\n",
    "print('shape = ', test_array.shape)\n",
    "print(test_array)"
   ]
  },
  {
   "cell_type": "code",
   "execution_count": 44,
   "metadata": {},
   "outputs": [
    {
     "name": "stdout",
     "output_type": "stream",
     "text": [
      "axis =  0 ---------------------\n",
      "[[ 2  4  6  8]\n",
      " [10 12 14 16]\n",
      " [18 20 22 24]]\n",
      "\n",
      "axis =  1 ---------------------\n",
      "[[15 18 21 24]\n",
      " [15 18 21 24]]\n",
      "\n",
      "axis =  2 ---------------------\n",
      "[[10 26 42]\n",
      " [10 26 42]]\n",
      "\n"
     ]
    }
   ],
   "source": [
    "for i in range(3):\n",
    "    print('axis = ', i , \"---------------------\")\n",
    "    print(test_array.sum(axis = i))\n",
    "    print()\n",
    "    \n",
    "# 0 은 해당 위치에 있는 것들 끼리 더해지는 것\n",
    "# 1 은 각각의 열끼리 더한 것\n",
    "# 2 는각각의 행끼리 더한 것"
   ]
  },
  {
   "cell_type": "markdown",
   "metadata": {},
   "source": [
    "텐서가 2 2 3 4 인 텐서를 만든다"
   ]
  },
  {
   "cell_type": "code",
   "execution_count": 63,
   "metadata": {},
   "outputs": [
    {
     "data": {
      "text/plain": [
       "array([[[[ 1,  2,  3,  4],\n",
       "         [ 5,  6,  7,  8],\n",
       "         [ 9, 10, 11, 12]],\n",
       "\n",
       "        [[ 1,  2,  3,  4],\n",
       "         [ 5,  6,  7,  8],\n",
       "         [ 9, 10, 11, 12]]],\n",
       "\n",
       "\n",
       "       [[[ 2,  2,  3,  4],\n",
       "         [ 5,  6,  7,  8],\n",
       "         [ 9, 10, 11, 12]],\n",
       "\n",
       "        [[ 2,  2,  3,  4],\n",
       "         [ 5,  6,  7,  8],\n",
       "         [ 9, 10, 11, 12]]]])"
      ]
     },
     "execution_count": 63,
     "metadata": {},
     "output_type": "execute_result"
    }
   ],
   "source": [
    "# 2 2 3 4 \n",
    "\n",
    "x = [\n",
    "    [[[1,2,3,4],[5,6,7,8],[9,10,11,12]],\n",
    "    [[1,2,3,4],[5,6,7,8],[9,10,11,12]]],\n",
    "    [[[2,2,3,4],[5,6,7,8],[9,10,11,12]],\n",
    "    [[2,2,3,4],[5,6,7,8],[9,10,11,12]]],\n",
    "]\n",
    "x = np.array(x)\n",
    "x"
   ]
  },
  {
   "cell_type": "markdown",
   "metadata": {},
   "source": [
    " axis = 0 일때, 1 과 3, 2 와 4끼리 더한 것<br>\n",
    " 최상위 계층 서로가 더한것"
   ]
  },
  {
   "cell_type": "code",
   "execution_count": 64,
   "metadata": {},
   "outputs": [
    {
     "data": {
      "text/plain": [
       "array([[[ 3,  4,  6,  8],\n",
       "        [10, 12, 14, 16],\n",
       "        [18, 20, 22, 24]],\n",
       "\n",
       "       [[ 3,  4,  6,  8],\n",
       "        [10, 12, 14, 16],\n",
       "        [18, 20, 22, 24]]])"
      ]
     },
     "execution_count": 64,
     "metadata": {},
     "output_type": "execute_result"
    }
   ],
   "source": [
    "x.sum(axis = 0)"
   ]
  },
  {
   "cell_type": "markdown",
   "metadata": {},
   "source": [
    "axis가 1 일때 1과 2, 3과 4<br>\n",
    "최상위 계층 안에서 서로 더한 것 "
   ]
  },
  {
   "cell_type": "code",
   "execution_count": 65,
   "metadata": {},
   "outputs": [
    {
     "data": {
      "text/plain": [
       "array([[[ 2,  4,  6,  8],\n",
       "        [10, 12, 14, 16],\n",
       "        [18, 20, 22, 24]],\n",
       "\n",
       "       [[ 4,  4,  6,  8],\n",
       "        [10, 12, 14, 16],\n",
       "        [18, 20, 22, 24]]])"
      ]
     },
     "execution_count": 65,
     "metadata": {},
     "output_type": "execute_result"
    }
   ],
   "source": [
    "x.sum(axis = 1)"
   ]
  },
  {
   "cell_type": "markdown",
   "metadata": {},
   "source": [
    "axis 가 2일때, 1, 2, 3, 4\n",
    "<br>최상위 계층 바로 아래 있는 것들 내부에서 서로 더한 것\n"
   ]
  },
  {
   "cell_type": "code",
   "execution_count": 66,
   "metadata": {},
   "outputs": [
    {
     "data": {
      "text/plain": [
       "array([[[15, 18, 21, 24],\n",
       "        [15, 18, 21, 24]],\n",
       "\n",
       "       [[16, 18, 21, 24],\n",
       "        [16, 18, 21, 24]]])"
      ]
     },
     "execution_count": 66,
     "metadata": {},
     "output_type": "execute_result"
    }
   ],
   "source": [
    "x.sum(axis = 2)"
   ]
  },
  {
   "cell_type": "markdown",
   "metadata": {},
   "source": [
    "axis가 3일때 \n",
    "<br> 바로 직전에는 열끼리의 합이었지만 이번엔 행끼리의 합"
   ]
  },
  {
   "cell_type": "code",
   "execution_count": 58,
   "metadata": {},
   "outputs": [
    {
     "data": {
      "text/plain": [
       "array([[[10, 26, 42],\n",
       "        [10, 26, 42]],\n",
       "\n",
       "       [[10, 26, 42],\n",
       "        [10, 26, 42]]])"
      ]
     },
     "execution_count": 58,
     "metadata": {},
     "output_type": "execute_result"
    }
   ],
   "source": [
    "x.sum(axis = 3)"
   ]
  },
  {
   "cell_type": "markdown",
   "metadata": {},
   "source": [
    "- <strong>mean</strong> : *axis* 축을 기준으로 평균 연산"
   ]
  },
  {
   "cell_type": "code",
   "execution_count": 19,
   "metadata": {},
   "outputs": [
    {
     "name": "stdout",
     "output_type": "stream",
     "text": [
      "[[ 1  2  3  4]\n",
      " [ 5  6  7  8]\n",
      " [ 9 10 11 12]]\n",
      "가로들의 평균 :  [ 2.5  6.5 10.5]\n"
     ]
    }
   ],
   "source": [
    "test_array = np.arange(1,13).reshape(3,4)\n",
    "print(test_array)\n",
    "print('가로들의 평균 : ', test_array.mean(axis = 1))"
   ]
  },
  {
   "cell_type": "markdown",
   "metadata": {},
   "source": [
    "- <strong>std</strong> : *axis* 축을 기준으로 전체 값에 대한 표준편차 연산"
   ]
  },
  {
   "cell_type": "code",
   "execution_count": 69,
   "metadata": {},
   "outputs": [
    {
     "data": {
      "text/plain": [
       "array([3.26598632, 3.26598632, 3.26598632, 3.26598632])"
      ]
     },
     "execution_count": 69,
     "metadata": {},
     "output_type": "execute_result"
    }
   ],
   "source": [
    "test_array.std(axis = 0)"
   ]
  },
  {
   "cell_type": "markdown",
   "metadata": {},
   "source": [
    "- <strong>sqrt</strong> : 각 요소에 제곱근 연산 수행"
   ]
  },
  {
   "cell_type": "code",
   "execution_count": 70,
   "metadata": {},
   "outputs": [
    {
     "data": {
      "text/plain": [
       "array([[1.        , 1.41421356, 1.73205081, 2.        ],\n",
       "       [2.23606798, 2.44948974, 2.64575131, 2.82842712],\n",
       "       [3.        , 3.16227766, 3.31662479, 3.46410162]])"
      ]
     },
     "execution_count": 70,
     "metadata": {},
     "output_type": "execute_result"
    }
   ],
   "source": [
    "np.sqrt(test_array)"
   ]
  },
  {
   "cell_type": "markdown",
   "metadata": {},
   "source": [
    "<h5>연결 함수</h5>"
   ]
  },
  {
   "cell_type": "markdown",
   "metadata": {},
   "source": [
    "- 연결 함수 : 두 객체 간의 결합을 지원하는 함수\n",
    "- <strong>vstack</strong> : 배열을 수직으로 붙여 하나의 행렬을 생성\n",
    "- <strong>hstack</strong> : 배열을 수평으로 붙여 하나의 행렬을 생성"
   ]
  },
  {
   "cell_type": "code",
   "execution_count": 22,
   "metadata": {},
   "outputs": [
    {
     "name": "stdout",
     "output_type": "stream",
     "text": [
      "vstack\n",
      " [[1 2 3]\n",
      " [4 5 6]]\n",
      "hstack\n",
      " [1 2 3 4 5 6]\n"
     ]
    }
   ],
   "source": [
    "v1 = np.array([1,2,3])\n",
    "v2 = np.array([4,5,6])\n",
    "print('vstack\\n',np.vstack((v1,v2)))\n",
    "print('hstack\\n',np.hstack((v1,v2)))"
   ]
  },
  {
   "cell_type": "markdown",
   "metadata": {},
   "source": [
    "넘파이는 열 벡터를 표현할 수 없기 때문에 *2차원 행렬 형태*로 표현한다."
   ]
  },
  {
   "cell_type": "code",
   "execution_count": 78,
   "metadata": {},
   "outputs": [
    {
     "name": "stdout",
     "output_type": "stream",
     "text": [
      "[[1]\n",
      " [2]\n",
      " [3]] \n",
      "\n",
      "[[4]\n",
      " [5]\n",
      " [6]]\n"
     ]
    }
   ],
   "source": [
    "v1 = v1.reshape(-1,1)\n",
    "v2 = v2.reshape(-1,1)\n",
    "print(v1, '\\n')\n",
    "print(v2)"
   ]
  },
  {
   "cell_type": "markdown",
   "metadata": {},
   "source": [
    "<strong>hstack</strong> : 2차원 행렬 형태로 표현한 열 벡터를 hstack으로 연결"
   ]
  },
  {
   "cell_type": "code",
   "execution_count": 24,
   "metadata": {},
   "outputs": [
    {
     "data": {
      "text/plain": [
       "array([1, 2, 3, 4, 5, 6])"
      ]
     },
     "execution_count": 24,
     "metadata": {},
     "output_type": "execute_result"
    }
   ],
   "source": [
    "np.hstack((v1,v2))"
   ]
  },
  {
   "cell_type": "markdown",
   "metadata": {},
   "source": [
    "- <strong>consatenate</strong> : 축을 고려하여 두 개의 배열을 결합\n",
    "<br> -> 스택(stack) 계열의 함수와 달리 생성될 배열과 소스가 되는 배열의 차원이 같아야함\n",
    "<br> -> 두 벡터를 결합하고 싶다면, 해당 벡터를 일단 2차원 배열 꼴로 변환 후 행렬로 나타내야함."
   ]
  },
  {
   "cell_type": "code",
   "execution_count": 25,
   "metadata": {},
   "outputs": [
    {
     "data": {
      "text/plain": [
       "array([[1, 2, 3],\n",
       "       [4, 5, 6]])"
      ]
     },
     "execution_count": 25,
     "metadata": {},
     "output_type": "execute_result"
    }
   ],
   "source": [
    "v1 = np.array([[1,2,3]])\n",
    "v2 = np.array([[4,5,6]])\n",
    "np.concatenate((v1,v2),axis = 0)"
   ]
  },
  {
   "cell_type": "markdown",
   "metadata": {},
   "source": [
    "- 전치행렬 <strong>T</strong>"
   ]
  },
  {
   "cell_type": "code",
   "execution_count": 27,
   "metadata": {},
   "outputs": [
    {
     "name": "stdout",
     "output_type": "stream",
     "text": [
      "v1 \n",
      " [[1 2]\n",
      " [3 4]]\n",
      "v2 \n",
      " [[5]\n",
      " [6]]\n"
     ]
    }
   ],
   "source": [
    "v1 = np.array([1,2,3,4]).reshape(2,2)\n",
    "v2 = np.array([[5,6]]).T\n",
    "print('v1 \\n',v1)\n",
    "print('v2 \\n',v2)"
   ]
  },
  {
   "cell_type": "markdown",
   "metadata": {},
   "source": [
    "- 벡터의 내적(dotproduct) : 두 배열 간의 곱셈\n",
    "<br> -> 두개의 행렬에서 첫 번째 행렬의 열 크기와 두 번째 행렬의 행 크기가 동일해야함\n",
    "<br> -> m x n행렬과 m x l행렬을 내적하면 m x l 행렬 생성한다."
   ]
  },
  {
   "cell_type": "code",
   "execution_count": 28,
   "metadata": {},
   "outputs": [
    {
     "data": {
      "text/plain": [
       "array([[22, 28],\n",
       "       [49, 64]])"
      ]
     },
     "execution_count": 28,
     "metadata": {},
     "output_type": "execute_result"
    }
   ],
   "source": [
    "x1 = np.arange(1,7).reshape(2,3)\n",
    "x2 = np.arange(1,7).reshape(3,2)\n",
    "x1.dot(x2)"
   ]
  },
  {
   "cell_type": "markdown",
   "metadata": {},
   "source": [
    "-  브로드 캐스팅 연산 : 전체 행렬에 다 계산을 해주는 연산\n",
    "<br> -> 하나의 행렬과 스칼라 값들 간의 연산이나 행렬과 벡터 간의 연산"
   ]
  },
  {
   "cell_type": "code",
   "execution_count": 29,
   "metadata": {},
   "outputs": [
    {
     "data": {
      "text/plain": [
       "array([[ 4,  5,  6],\n",
       "       [ 7,  8,  9],\n",
       "       [10, 11, 12],\n",
       "       [13, 14, 15]])"
      ]
     },
     "execution_count": 29,
     "metadata": {},
     "output_type": "execute_result"
    }
   ],
   "source": [
    "x = np.arange(1,13).reshape(4,3)\n",
    "x+3"
   ]
  },
  {
   "cell_type": "markdown",
   "metadata": {},
   "source": [
    "<h4>비교 연산과 데이터 추출</h4>\n",
    "<h5>비교 연산</h5>"
   ]
  },
  {
   "cell_type": "markdown",
   "metadata": {},
   "source": [
    "- 연산 결과는 항상 불린형을 가진 배열로 추출\n",
    "- 하나의 스칼라 값과 벡터 간의 비교연산은 벡터 내 전체 요소에 적용"
   ]
  },
  {
   "cell_type": "code",
   "execution_count": 30,
   "metadata": {},
   "outputs": [
    {
     "data": {
      "text/plain": [
       "array([False,  True,  True])"
      ]
     },
     "execution_count": 30,
     "metadata": {},
     "output_type": "execute_result"
    }
   ],
   "source": [
    "v = np.arange(10,40,10)\n",
    "v > 16"
   ]
  },
  {
   "cell_type": "markdown",
   "metadata": {},
   "source": [
    "- <strong>all</strong> : 배열 내부의 모든 값이 참일 때는 *True*, 하나라도 아니면 *False*를 나타낸다.\n",
    "- <strong>any</strong> : 배열 내부의 값 중 하나라도 참일때는 True, 모두 거짓일때는 *False*를 반환한다."
   ]
  },
  {
   "cell_type": "code",
   "execution_count": 85,
   "metadata": {},
   "outputs": [
    {
     "name": "stdout",
     "output_type": "stream",
     "text": [
      "False\n",
      "True\n"
     ]
    }
   ],
   "source": [
    "x = np.array([1,2,3,4,5,6,7,8,9])\n",
    "print((x>3).all())\n",
    "print((x>3).any())"
   ]
  },
  {
   "cell_type": "markdown",
   "metadata": {},
   "source": [
    "<h5>인덱스 반환 함수</h5>"
   ]
  },
  {
   "cell_type": "markdown",
   "metadata": {},
   "source": [
    "- <strong>where</strong> : 배열이 불린형으로 이루어졌을때 참인 값들의 인덱스를 반환\n",
    "<br>-> True, false인 경우의 값을 지정해줄 수도 있다. "
   ]
  },
  {
   "cell_type": "code",
   "execution_count": 32,
   "metadata": {},
   "outputs": [
    {
     "name": "stdout",
     "output_type": "stream",
     "text": [
      "(array([1, 2], dtype=int64),)\n",
      "[20 10 10 20 20]\n"
     ]
    }
   ],
   "source": [
    "x = np.array([4,6,7,3,2])\n",
    "print(np.where(x>5))\n",
    "print(np.where(x>5,10,20))"
   ]
  },
  {
   "cell_type": "markdown",
   "metadata": {},
   "source": [
    "<h5>정렬된 값의 인덱스를 반환해주는 함수</h5>"
   ]
  },
  {
   "cell_type": "markdown",
   "metadata": {},
   "source": [
    "- <strong>argsort</strong> : 배열 내 값들을 작은 순서대로 인덱스 반환\n",
    "- <strong>argmax</strong> : 배열 내 값들 중 가장 큰 값의 인덱스를 반환\n",
    "- <strong>argmin</strong> : 배열 내 값들 중 가장 큰 값의 인덱스를 반환\n"
   ]
  },
  {
   "cell_type": "code",
   "execution_count": 33,
   "metadata": {},
   "outputs": [
    {
     "name": "stdout",
     "output_type": "stream",
     "text": [
      "argsort :  [4 3 0 1 2]\n",
      "argmax :  2\n",
      "argmin :  4\n"
     ]
    }
   ],
   "source": [
    "x = np.array([4,6,7,3,2])\n",
    "print('argsort : ',np.argsort(x))\n",
    "print('argmax : ',np.argmax(x))\n",
    "print('argmin : ',np.argmin(x))"
   ]
  },
  {
   "cell_type": "markdown",
   "metadata": {},
   "source": [
    "<h5>인덱스를 활용한 데이터 추출</h5>\n",
    "<h4>불린 인덱스</h4>"
   ]
  },
  {
   "cell_type": "markdown",
   "metadata": {},
   "source": [
    "- 불린 인덱스 : 배열에 있는 값들을 반환할 특정 조건을 불린형의 배열에 넣어서 추출\n",
    "<br> -> 인덱스에 들어가는 배열은 불린형이어야 함\n",
    "<br> -> 불린형 배열과 추출 대상이 되는 배열의 구조가 같아야 함"
   ]
  },
  {
   "cell_type": "code",
   "execution_count": 37,
   "metadata": {},
   "outputs": [
    {
     "name": "stdout",
     "output_type": "stream",
     "text": [
      "x > 3 :  [ True  True  True False False]\n",
      "cond :  [4 6 7]\n",
      "x.shape :  (5,)\n",
      "cond.shape :  (5,)\n"
     ]
    }
   ],
   "source": [
    "x = np.array([4,6,7,3,2])\n",
    "print('x > 3 : ', x > 3)\n",
    "cond = x > 3\n",
    "print('cond : ',x[cond])\n",
    "print('x.shape : ', x.shape )\n",
    "print('cond.shape : ', cond.shape)\n"
   ]
  },
  {
   "cell_type": "markdown",
   "metadata": {},
   "source": [
    "<h5>팬시 인덱스<h5>"
   ]
  },
  {
   "cell_type": "markdown",
   "metadata": {},
   "source": [
    "- 팬시인덱스 : 정수형 배열의 값을 사용하여 해당 정수의 인덱스에 위치한 값을 반환\n",
    "<br> - 인덱스 항목에 넣을 배열은 정수로만 구성되어야 함\n",
    "<br> - 정수 값의 범위는 대상이 되는 배열이 가지는 인덱스 범위 내 대상이 되는 배열과 인덱스 배열의 구조가 같을 필요는 없음"
   ]
  },
  {
   "cell_type": "code",
   "execution_count": 38,
   "metadata": {},
   "outputs": [
    {
     "name": "stdout",
     "output_type": "stream",
     "text": [
      "x[cond] :  [6 7 4 7 7 7]\n",
      "x.take(cond) :  [6 7 4 7 7 7]\n"
     ]
    }
   ],
   "source": [
    "x = np.array([4,6,7,3,2])\n",
    "cond = np.array([1,2,0,2,2,2,],int)\n",
    "print('x[cond] : ',x[cond])\n",
    "print('x.take(cond) : ',x.take(cond))"
   ]
  },
  {
   "cell_type": "code",
   "execution_count": 40,
   "metadata": {},
   "outputs": [
    {
     "data": {
      "text/plain": [
       "array([ 1,  9,  9, 16,  4,  4])"
      ]
     },
     "execution_count": 40,
     "metadata": {},
     "output_type": "execute_result"
    }
   ],
   "source": [
    "x = np.array([[1,4],[9,16]])\n",
    "a = np.array([0,1,1,1,0,0],int)\n",
    "b = np.array([0,0,0,1,1,1],int)\n",
    "x[a,b]"
   ]
  }
 ],
 "metadata": {
  "kernelspec": {
   "display_name": "Python 3.9.12",
   "language": "python",
   "name": "python3"
  },
  "language_info": {
   "codemirror_mode": {
    "name": "ipython",
    "version": 3
   },
   "file_extension": ".py",
   "mimetype": "text/x-python",
   "name": "python",
   "nbconvert_exporter": "python",
   "pygments_lexer": "ipython3",
   "version": "3.9.12"
  },
  "orig_nbformat": 4,
  "vscode": {
   "interpreter": {
    "hash": "1e0dec8de70038811930ec1e4061a401642eedfa06e1b0826aabaee4afa2b89b"
   }
  }
 },
 "nbformat": 4,
 "nbformat_minor": 2
}
